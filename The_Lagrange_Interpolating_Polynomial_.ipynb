{
  "nbformat": 4,
  "nbformat_minor": 0,
  "metadata": {
    "colab": {
      "name": "The Lagrange Interpolating Polynomial .ipynb",
      "provenance": [],
      "collapsed_sections": [],
      "authorship_tag": "ABX9TyMiYwbjwNWL4p1XYDxbAkuQ",
      "include_colab_link": true
    },
    "kernelspec": {
      "name": "python3",
      "display_name": "Python 3"
    },
    "language_info": {
      "name": "python"
    }
  },
  "cells": [
    {
      "cell_type": "markdown",
      "metadata": {
        "id": "view-in-github",
        "colab_type": "text"
      },
      "source": [
        "<a href=\"https://colab.research.google.com/github/AnganathiDubazana/AnganathiDubazana/blob/main/The_Lagrange_Interpolating_Polynomial_.ipynb\" target=\"_parent\"><img src=\"https://colab.research.google.com/assets/colab-badge.svg\" alt=\"Open In Colab\"/></a>"
      ]
    },
    {
      "cell_type": "code",
      "execution_count": null,
      "metadata": {
        "id": "M6tTr5T3sBd3"
      },
      "outputs": [],
      "source": [
        "## Given a a very complex function and a few points\n",
        "## We can are  now trying to derive a lagrange Interpolating polynomial for that function "
      ]
    },
    {
      "cell_type": "code",
      "source": [
        "import sympy as sym\n",
        "import numpy as np\n",
        "import matplotlib.pyplot as plt\n",
        "import scipy as sp \n",
        "from scipy.misc import derivative "
      ],
      "metadata": {
        "id": "qllqAlKDsmjy"
      },
      "execution_count": null,
      "outputs": []
    },
    {
      "cell_type": "code",
      "source": [
        "x, a, b, c = sym.symbols('x a b c', real=True) ## here we are defining our variable x and constanta, b and c\n",
        "f = a*sym.log(sym.sin(x**b))  ## This ryt here is our function"
      ],
      "metadata": {
        "id": "eMqcBypXtMUH"
      },
      "execution_count": null,
      "outputs": []
    },
    {
      "cell_type": "code",
      "source": [
        "f"
      ],
      "metadata": {
        "colab": {
          "base_uri": "https://localhost:8080/",
          "height": 39
        },
        "id": "xO8cphp2who-",
        "outputId": "7673bb42-5e64-4735-9af2-ae9102c0aecb"
      },
      "execution_count": null,
      "outputs": [
        {
          "output_type": "execute_result",
          "data": {
            "text/plain": [
              "a*log(sin(x**b))"
            ],
            "text/latex": "$\\displaystyle a \\log{\\left(\\sin{\\left(x^{b} \\right)} \\right)}$"
          },
          "metadata": {},
          "execution_count": 4
        }
      ]
    },
    {
      "cell_type": "code",
      "source": [
        "## f_x = sym.lambdify((x, a, b), f)\n",
        "## x = np.linspace(1,2, 5)\n",
        "## y = f(x, a=3, b=3)"
      ],
      "metadata": {
        "id": "DPNSAFuvwoEG"
      },
      "execution_count": 29,
      "outputs": []
    },
    {
      "cell_type": "code",
      "source": [
        "df5dx5 = sym.diff(f, x, 5)  ## This is teh fifth derivative of the given function f\n",
        "df5dx5"
      ],
      "metadata": {
        "colab": {
          "base_uri": "https://localhost:8080/",
          "height": 96
        },
        "id": "hxOQeQYLx1VD",
        "outputId": "24c931e6-7788-4b0a-aa9c-df3943423401"
      },
      "execution_count": null,
      "outputs": [
        {
          "output_type": "execute_result",
          "data": {
            "text/plain": [
              "a*b*x**b*(16*b**4*x**(4*b)*cos(x**b)/sin(x**b) + 40*b**4*x**(4*b)*cos(x**b)**3/sin(x**b)**3 + 24*b**4*x**(4*b)*cos(x**b)**5/sin(x**b)**5 - 20*b**4*x**(3*b) - 80*b**4*x**(3*b)*cos(x**b)**2/sin(x**b)**2 - 60*b**4*x**(3*b)*cos(x**b)**4/sin(x**b)**4 + 50*b**4*x**(2*b)*cos(x**b)/sin(x**b) + 50*b**4*x**(2*b)*cos(x**b)**3/sin(x**b)**3 - 15*b**4*x**b - 15*b**4*x**b*cos(x**b)**2/sin(x**b)**2 + b**4*cos(x**b)/sin(x**b) + 20*b**3*x**(3*b) + 80*b**3*x**(3*b)*cos(x**b)**2/sin(x**b)**2 + 60*b**3*x**(3*b)*cos(x**b)**4/sin(x**b)**4 - 120*b**3*x**(2*b)*cos(x**b)/sin(x**b) - 120*b**3*x**(2*b)*cos(x**b)**3/sin(x**b)**3 + 70*b**3*x**b + 70*b**3*x**b*cos(x**b)**2/sin(x**b)**2 - 10*b**3*cos(x**b)/sin(x**b) + 70*b**2*x**(2*b)*cos(x**b)/sin(x**b) + 70*b**2*x**(2*b)*cos(x**b)**3/sin(x**b)**3 - 105*b**2*x**b - 105*b**2*x**b*cos(x**b)**2/sin(x**b)**2 + 35*b**2*cos(x**b)/sin(x**b) + 50*b*x**b + 50*b*x**b*cos(x**b)**2/sin(x**b)**2 - 50*b*cos(x**b)/sin(x**b) + 24*cos(x**b)/sin(x**b))/x**5"
            ],
            "text/latex": "$\\displaystyle \\frac{a b x^{b} \\left(\\frac{16 b^{4} x^{4 b} \\cos{\\left(x^{b} \\right)}}{\\sin{\\left(x^{b} \\right)}} + \\frac{40 b^{4} x^{4 b} \\cos^{3}{\\left(x^{b} \\right)}}{\\sin^{3}{\\left(x^{b} \\right)}} + \\frac{24 b^{4} x^{4 b} \\cos^{5}{\\left(x^{b} \\right)}}{\\sin^{5}{\\left(x^{b} \\right)}} - 20 b^{4} x^{3 b} - \\frac{80 b^{4} x^{3 b} \\cos^{2}{\\left(x^{b} \\right)}}{\\sin^{2}{\\left(x^{b} \\right)}} - \\frac{60 b^{4} x^{3 b} \\cos^{4}{\\left(x^{b} \\right)}}{\\sin^{4}{\\left(x^{b} \\right)}} + \\frac{50 b^{4} x^{2 b} \\cos{\\left(x^{b} \\right)}}{\\sin{\\left(x^{b} \\right)}} + \\frac{50 b^{4} x^{2 b} \\cos^{3}{\\left(x^{b} \\right)}}{\\sin^{3}{\\left(x^{b} \\right)}} - 15 b^{4} x^{b} - \\frac{15 b^{4} x^{b} \\cos^{2}{\\left(x^{b} \\right)}}{\\sin^{2}{\\left(x^{b} \\right)}} + \\frac{b^{4} \\cos{\\left(x^{b} \\right)}}{\\sin{\\left(x^{b} \\right)}} + 20 b^{3} x^{3 b} + \\frac{80 b^{3} x^{3 b} \\cos^{2}{\\left(x^{b} \\right)}}{\\sin^{2}{\\left(x^{b} \\right)}} + \\frac{60 b^{3} x^{3 b} \\cos^{4}{\\left(x^{b} \\right)}}{\\sin^{4}{\\left(x^{b} \\right)}} - \\frac{120 b^{3} x^{2 b} \\cos{\\left(x^{b} \\right)}}{\\sin{\\left(x^{b} \\right)}} - \\frac{120 b^{3} x^{2 b} \\cos^{3}{\\left(x^{b} \\right)}}{\\sin^{3}{\\left(x^{b} \\right)}} + 70 b^{3} x^{b} + \\frac{70 b^{3} x^{b} \\cos^{2}{\\left(x^{b} \\right)}}{\\sin^{2}{\\left(x^{b} \\right)}} - \\frac{10 b^{3} \\cos{\\left(x^{b} \\right)}}{\\sin{\\left(x^{b} \\right)}} + \\frac{70 b^{2} x^{2 b} \\cos{\\left(x^{b} \\right)}}{\\sin{\\left(x^{b} \\right)}} + \\frac{70 b^{2} x^{2 b} \\cos^{3}{\\left(x^{b} \\right)}}{\\sin^{3}{\\left(x^{b} \\right)}} - 105 b^{2} x^{b} - \\frac{105 b^{2} x^{b} \\cos^{2}{\\left(x^{b} \\right)}}{\\sin^{2}{\\left(x^{b} \\right)}} + \\frac{35 b^{2} \\cos{\\left(x^{b} \\right)}}{\\sin{\\left(x^{b} \\right)}} + 50 b x^{b} + \\frac{50 b x^{b} \\cos^{2}{\\left(x^{b} \\right)}}{\\sin^{2}{\\left(x^{b} \\right)}} - \\frac{50 b \\cos{\\left(x^{b} \\right)}}{\\sin{\\left(x^{b} \\right)}} + \\frac{24 \\cos{\\left(x^{b} \\right)}}{\\sin{\\left(x^{b} \\right)}}\\right)}{x^{5}}$"
          },
          "metadata": {},
          "execution_count": 5
        }
      ]
    },
    {
      "cell_type": "code",
      "source": [
        "x_not = 2\n",
        "x_one = 3\n",
        "x_two = 4\n",
        "f.subs([(x,3), (a,2), (b,3), (c,1)]).evalf()   ## evaluating the function f at x=3 and using the specified constants"
      ],
      "metadata": {
        "colab": {
          "base_uri": "https://localhost:8080/",
          "height": 37
        },
        "id": "XhK62IZB0W43",
        "outputId": "dce3abe0-dc60-4633-b2e5-d9b17854ceea"
      },
      "execution_count": null,
      "outputs": [
        {
          "output_type": "execute_result",
          "data": {
            "text/plain": [
              "-0.0892084253539243"
            ],
            "text/latex": "$\\displaystyle -0.0892084253539243$"
          },
          "metadata": {},
          "execution_count": 28
        }
      ]
    },
    {
      "cell_type": "code",
      "source": [
        "## Here were are finding the L coeeficients of the Lagrange Interpolating Polynomial\n",
        "\n",
        "L_not = (x - x_one)*(x - x_two)/(x_not - x_one)*(x_not - x_two)\n",
        "\n",
        "L_one = (x - x_not)*(x - x_two)/(x_one - x_not)*(x_not - x_two)\n",
        "\n",
        "L_two = (x - x_not)*(x - x_one)/(x_two - x_not)*(x_two - x_one)"
      ],
      "metadata": {
        "id": "3aUdhfSozOLJ"
      },
      "execution_count": null,
      "outputs": []
    },
    {
      "cell_type": "code",
      "source": [
        "L_one"
      ],
      "metadata": {
        "colab": {
          "base_uri": "https://localhost:8080/",
          "height": 38
        },
        "id": "Pc8RiBNp5U4B",
        "outputId": "6b40896e-624a-4b85-da27-84360af86902"
      },
      "execution_count": null,
      "outputs": [
        {
          "output_type": "execute_result",
          "data": {
            "text/plain": [
              "-2*(x - 4)*(x - 2)"
            ],
            "text/latex": "$\\displaystyle - 2 \\left(x - 4\\right) \\left(x - 2\\right)$"
          },
          "metadata": {},
          "execution_count": 21
        }
      ]
    },
    {
      "cell_type": "code",
      "source": [
        "L_not"
      ],
      "metadata": {
        "colab": {
          "base_uri": "https://localhost:8080/",
          "height": 38
        },
        "id": "WluuYigh5dH5",
        "outputId": "476a9071-ed14-48c9-e7bf-d1d1d5ecb032"
      },
      "execution_count": null,
      "outputs": [
        {
          "output_type": "execute_result",
          "data": {
            "text/plain": [
              "2*(x - 4)*(x - 3)"
            ],
            "text/latex": "$\\displaystyle 2 \\left(x - 4\\right) \\left(x - 3\\right)$"
          },
          "metadata": {},
          "execution_count": 22
        }
      ]
    },
    {
      "cell_type": "code",
      "source": [
        "L_two"
      ],
      "metadata": {
        "colab": {
          "base_uri": "https://localhost:8080/",
          "height": 53
        },
        "id": "SeSr7NZd5gXg",
        "outputId": "3f67d30b-5ced-40d1-e055-9159c646fa6c"
      },
      "execution_count": null,
      "outputs": [
        {
          "output_type": "execute_result",
          "data": {
            "text/plain": [
              "(x - 3)*(x - 2)/2"
            ],
            "text/latex": "$\\displaystyle \\frac{\\left(x - 3\\right) \\left(x - 2\\right)}{2}$"
          },
          "metadata": {},
          "execution_count": 23
        }
      ]
    },
    {
      "cell_type": "code",
      "source": [
        "## So now i need f_not, f_one and f_two\n",
        "\n",
        "f_not = f.subs([(x,x_not), (a,2), (b,3), (c,1)]).evalf()\n",
        "f_one = f.subs([(x,x_one), (a,2), (b,3), (c,1)]).evalf()\n",
        "f_two = f.subs([(x,x_two), (a,2), (b,3), (c,1)]).evalf()\n",
        "\n",
        "P = L_not*f_not + L_one*f_one + L_two*f_two           ## <- this is the formula for the Lagrange Polynomial "
      ],
      "metadata": {
        "id": "J_NErHED6Sp5"
      },
      "execution_count": null,
      "outputs": []
    },
    {
      "cell_type": "code",
      "source": [
        "P"
      ],
      "metadata": {
        "colab": {
          "base_uri": "https://localhost:8080/",
          "height": 60
        },
        "id": "J7jNq66-7YXW",
        "outputId": "987e86ff-a581-4917-b714-97a5dce90617"
      },
      "execution_count": null,
      "outputs": [
        {
          "output_type": "execute_result",
          "data": {
            "text/plain": [
              "-0.0427951271323403*(x - 4)*(x - 3) + 0.178416850707849*(x - 4)*(x - 2) - 0.0833533069517401*(x - 3)*(x - 2)"
            ],
            "text/latex": "$\\displaystyle - 0.0427951271323403 \\left(x - 4\\right) \\left(x - 3\\right) + 0.178416850707849 \\left(x - 4\\right) \\left(x - 2\\right) - 0.0833533069517401 \\left(x - 3\\right) \\left(x - 2\\right)$"
          },
          "metadata": {},
          "execution_count": 25
        }
      ]
    },
    {
      "cell_type": "code",
      "source": [
        "P.subs([(x,3)])                      ## evaluating the polynomial at x = 3"
      ],
      "metadata": {
        "colab": {
          "base_uri": "https://localhost:8080/",
          "height": 37
        },
        "id": "hEBNYat17ryu",
        "outputId": "1ee7851d-c64c-414a-eaa8-25177dcdfbf9"
      },
      "execution_count": null,
      "outputs": [
        {
          "output_type": "execute_result",
          "data": {
            "text/plain": [
              "-0.178416850707849"
            ],
            "text/latex": "$\\displaystyle -0.178416850707849$"
          },
          "metadata": {},
          "execution_count": 26
        }
      ]
    },
    {
      "cell_type": "code",
      "source": [
        ""
      ],
      "metadata": {
        "id": "zDY8WN-_9jbA"
      },
      "execution_count": null,
      "outputs": []
    }
  ]
}